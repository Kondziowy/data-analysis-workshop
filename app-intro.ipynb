{
 "cells": [
  {
   "cell_type": "markdown",
   "metadata": {},
   "source": [
    "# Real data analysis in Python\n",
    "\n",
    "Konrad Brodzik\n",
    "\n",
    "20 April 2023"
   ]
  },
  {
   "cell_type": "markdown",
   "metadata": {},
   "source": [
    "### Workshop format\n",
    "\n",
    "Live demo, but here's a link to the data and some setup instructions if you'd like to follow along: https://github.com/Kondziowy/data-analysis-workshop"
   ]
  },
  {
   "cell_type": "markdown",
   "metadata": {},
   "source": [
    "### Problem statement\n",
    "\n",
    "Sally: \"The website is loading slowly, can you fix it?\"\n",
    "\n",
    "Me: \"What do you mean?\"\n",
    "\n",
    "Sally: \"Umm, it loads slower than last week\""
   ]
  },
  {
   "cell_type": "markdown",
   "metadata": {},
   "source": [
    "### App - description\n",
    "\n",
    "- Web application - internal document management system\n",
    "- 200 daily active users\n",
    "\n",
    "![System diagram](img\\system-diagram.png \"Diagram\" )"
   ]
  },
  {
   "cell_type": "markdown",
   "metadata": {},
   "source": [
    "### Our goals\n",
    "\n",
    "1. Parse data that's available to us\n",
    "1. De-noise the data\n",
    "2. Have a quantitative measure of what's going wrong\n",
    "3. Correlate different sources of data to find out the root cause of the problem\n",
    "4. Aggregate data so we can use it for future failure detection"
   ]
  },
  {
   "cell_type": "markdown",
   "metadata": {},
   "source": [
    "### Front End\n",
    "\n",
    "What does it do? Serves static files (Javascript, images), forwards other requests to Gunicorn.\n",
    "\n",
    "Example log:\n",
    "```\n",
    "127.0.0.1 - - [01/Apr/2023:11:27:40 +0000] \"GET /index.html HTTP/1.1\" 200 1200 0.002617\n",
    "127.0.0.1 - - [01/Apr/2023:11:27:45 +0000] \"GET /images/logo.png HTTP/1.1\" 200 15734 0.007353\n",
    "127.0.0.1 - - [01/Apr/2023:11:28:10 +0000] \"POST /login HTTP/1.1\" 302 - 0.014992\n",
    "127.0.0.1 - - [01/Apr/2023:11:29:05 +0000] \"GET /dashboard HTTP/1.1\" 200 4369 0.100576\n",
    "127.0.0.1 - - [01/Apr/2023:11:30:20 +0000] \"GET /orders HTTP/1.1\" 200 3520 0.006817\n",
    "```"
   ]
  },
  {
   "cell_type": "markdown",
   "metadata": {},
   "source": [
    "### Possible approaches\n",
    "\n",
    "- Dedicated library?\n",
    "- Using find and split\n",
    "- Regular Expressions"
   ]
  },
  {
   "cell_type": "code",
   "execution_count": 26,
   "metadata": {},
   "outputs": [],
   "source": [
    "import re\n",
    "from collections import defaultdict\n",
    "\n",
    "log_file = open('data\\\\access.log.small', 'r')  # replace with the path to your log file\n",
    "\n",
    "log_pattern = re.compile(\n",
    "    r'(?P<IP>\\d+\\.\\d+\\.\\d+\\.\\d+)\\s-\\s-\\s\\[(?P<Date>.*?)\\]\\s\\\"(?P<Method>POST|GET) (?P<Request>.*?) HTTP/1.1\\\"\\s(?P<StatusCode>\\d+)\\s(?P<DataSize>\\d+)\\s(?P<RequestTime>.*?)$')\n",
    "\n",
    "data_by_column = defaultdict(list)\n",
    "for line in log_file:\n",
    "    match = log_pattern.match(line)\n",
    "    if match is None:\n",
    "        continue  # skip lines that don't match the pattern\n",
    "    for column, value in match.groupdict().items():\n",
    "        data_by_column[column].append(value)\n",
    "\n",
    "log_file.close()"
   ]
  },
  {
   "cell_type": "code",
   "execution_count": 27,
   "metadata": {},
   "outputs": [
    {
     "name": "stdout",
     "output_type": "stream",
     "text": [
      "defaultdict(<class 'list'>, {'IP': ['127.0.0.1', '127.0.0.1', '127.0.0.1', '127.0.0.1'], 'Date': ['01/Apr/2023:11:27:40 +0000', '01/Apr/2023:11:27:45 +0000', '01/Apr/2023:11:29:05 +0000', '01/Apr/2023:11:30:20 +0000'], 'Method': ['GET', 'GET', 'GET', 'GET'], 'Request': ['/index.html', '/images/logo.png', '/dashboard', '/orders'], 'StatusCode': ['200', '200', '200', '200'], 'DataSize': ['1200', '15734', '4369', '3520'], 'RequestTime': ['0.002617', '0.007353', '0.100576', '0.006817']})\n"
     ]
    }
   ],
   "source": [
    "print(data_by_column)"
   ]
  },
  {
   "cell_type": "code",
   "execution_count": 28,
   "metadata": {},
   "outputs": [
    {
     "data": {
      "text/html": [
       "<div>\n",
       "<style scoped>\n",
       "    .dataframe tbody tr th:only-of-type {\n",
       "        vertical-align: middle;\n",
       "    }\n",
       "\n",
       "    .dataframe tbody tr th {\n",
       "        vertical-align: top;\n",
       "    }\n",
       "\n",
       "    .dataframe thead th {\n",
       "        text-align: right;\n",
       "    }\n",
       "</style>\n",
       "<table border=\"1\" class=\"dataframe\">\n",
       "  <thead>\n",
       "    <tr style=\"text-align: right;\">\n",
       "      <th></th>\n",
       "      <th>IP</th>\n",
       "      <th>Date</th>\n",
       "      <th>Method</th>\n",
       "      <th>Request</th>\n",
       "      <th>StatusCode</th>\n",
       "      <th>DataSize</th>\n",
       "      <th>RequestTime</th>\n",
       "    </tr>\n",
       "  </thead>\n",
       "  <tbody>\n",
       "    <tr>\n",
       "      <th>0</th>\n",
       "      <td>127.0.0.1</td>\n",
       "      <td>01/Apr/2023:11:27:40 +0000</td>\n",
       "      <td>GET</td>\n",
       "      <td>/index.html</td>\n",
       "      <td>200</td>\n",
       "      <td>1200</td>\n",
       "      <td>0.002617</td>\n",
       "    </tr>\n",
       "    <tr>\n",
       "      <th>1</th>\n",
       "      <td>127.0.0.1</td>\n",
       "      <td>01/Apr/2023:11:27:45 +0000</td>\n",
       "      <td>GET</td>\n",
       "      <td>/images/logo.png</td>\n",
       "      <td>200</td>\n",
       "      <td>15734</td>\n",
       "      <td>0.007353</td>\n",
       "    </tr>\n",
       "    <tr>\n",
       "      <th>2</th>\n",
       "      <td>127.0.0.1</td>\n",
       "      <td>01/Apr/2023:11:29:05 +0000</td>\n",
       "      <td>GET</td>\n",
       "      <td>/dashboard</td>\n",
       "      <td>200</td>\n",
       "      <td>4369</td>\n",
       "      <td>0.100576</td>\n",
       "    </tr>\n",
       "    <tr>\n",
       "      <th>3</th>\n",
       "      <td>127.0.0.1</td>\n",
       "      <td>01/Apr/2023:11:30:20 +0000</td>\n",
       "      <td>GET</td>\n",
       "      <td>/orders</td>\n",
       "      <td>200</td>\n",
       "      <td>3520</td>\n",
       "      <td>0.006817</td>\n",
       "    </tr>\n",
       "  </tbody>\n",
       "</table>\n",
       "</div>"
      ],
      "text/plain": [
       "          IP                        Date Method           Request StatusCode  \\\n",
       "0  127.0.0.1  01/Apr/2023:11:27:40 +0000    GET       /index.html        200   \n",
       "1  127.0.0.1  01/Apr/2023:11:27:45 +0000    GET  /images/logo.png        200   \n",
       "2  127.0.0.1  01/Apr/2023:11:29:05 +0000    GET        /dashboard        200   \n",
       "3  127.0.0.1  01/Apr/2023:11:30:20 +0000    GET           /orders        200   \n",
       "\n",
       "  DataSize RequestTime  \n",
       "0     1200    0.002617  \n",
       "1    15734    0.007353  \n",
       "2     4369    0.100576  \n",
       "3     3520    0.006817  "
      ]
     },
     "execution_count": 28,
     "metadata": {},
     "output_type": "execute_result"
    }
   ],
   "source": [
    "import pandas as pd\n",
    "\n",
    "front_end_requests = pd.DataFrame(\n",
    "  data_by_column\n",
    ")\n",
    "front_end_requests.head()"
   ]
  },
  {
   "cell_type": "code",
   "execution_count": 31,
   "metadata": {},
   "outputs": [],
   "source": [
    "import seaborn as sns"
   ]
  },
  {
   "cell_type": "markdown",
   "metadata": {},
   "source": [
    "### Front end logs - summary\n",
    "- "
   ]
  },
  {
   "cell_type": "markdown",
   "metadata": {},
   "source": [
    "### Back End\n",
    "\n",
    "What does it do? Processes business logic, wraps database requests.\n",
    "\n",
    "Example log:\n",
    "```\n",
    "[2022-04-01 13:37:00 +0000] [12345] [ellen] [api.py:85] [INFO] GET /documents?page=X&per_page=Y&filter=Z 200 3520 0.006817\n",
    "[2022-04-01 13:37:00 +0000] [12345] [] [api.py:86] [INFO] Recording operation GET from user ellen\n",
    "[2022-04-01 13:37:00 +0000] [12345] [ellen] [api.py:85] [INFO] GET /users 200 3128 0.006817\n",
    "```"
   ]
  }
 ],
 "metadata": {
  "kernelspec": {
   "display_name": "Python 3",
   "language": "python",
   "name": "python3"
  },
  "language_info": {
   "codemirror_mode": {
    "name": "ipython",
    "version": 3
   },
   "file_extension": ".py",
   "mimetype": "text/x-python",
   "name": "python",
   "nbconvert_exporter": "python",
   "pygments_lexer": "ipython3",
   "version": "3.8.5"
  }
 },
 "nbformat": 4,
 "nbformat_minor": 2
}
